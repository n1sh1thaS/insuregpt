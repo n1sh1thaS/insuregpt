{
 "cells": [
  {
   "cell_type": "code",
   "execution_count": 3,
   "id": "8858f60a-078f-4d16-9ba0-1e64a6e4cbfe",
   "metadata": {},
   "outputs": [
    {
     "data": {
      "text/plain": [
       "['feature_names.joblib']"
      ]
     },
     "execution_count": 3,
     "metadata": {},
     "output_type": "execute_result"
    }
   ],
   "source": [
    "import pandas as pd\n",
    "from sklearn.ensemble import GradientBoostingRegressor\n",
    "from sklearn.model_selection import train_test_split\n",
    "import joblib\n",
    "\n",
    "#import data\n",
    "columns_used = ['Coverage Index', 'Education Index', 'Employment Status Index', 'Location Index','Gender', 'Marital Status Index', 'Vehicle Class Index', 'Vehicle Size Index', 'Monthly Premium Auto']\n",
    "df = pd.read_csv('AutoInsuranceClaims2024.csv', usecols=columns_used)\n",
    "\n",
    "#encoding categorical variables\n",
    "gender_map = {\n",
    "    'F':1,\n",
    "    'M':0,\n",
    "}\n",
    "df['Gender'] = df['Gender'].map(gender_map)\n",
    "\n",
    "#split data into X and y (input and output)\n",
    "X = df.drop(columns=['Monthly Premium Auto'])\n",
    "y = df['Monthly Premium Auto']\n",
    "\n",
    "#split data into train and test sets\n",
    "X_train, X_test, y_train, y_test = train_test_split(X, y, test_size=0.2)\n",
    "\n",
    "#build model\n",
    "model = GradientBoostingRegressor()\n",
    "model.fit(X_train, y_train)\n",
    "predictions = model.predict(X_test)\n",
    "\n",
    "joblib.dump(model, 'premium-predictor.joblib')\n",
    "joblib.dump(X.columns.tolist(), 'feature_names.joblib')\n",
    "\n"
   ]
  },
  {
   "cell_type": "code",
   "execution_count": 2,
   "id": "3d658c74-7ec0-46cf-be04-94c3a6fbb559",
   "metadata": {},
   "outputs": [
    {
     "data": {
      "text/plain": [
       "(   Coverage Index  Education Index  Employment Status Index  Gender  \\\n",
       " 0               1                2                        1       1   \n",
       " 1               1                2                        1       0   \n",
       " \n",
       "    Location Index  Marital Status Index  Vehicle Class Index  \\\n",
       " 0               1                     0                    1   \n",
       " 1               1                     0                    1   \n",
       " \n",
       "    Vehicle Size Index  \n",
       " 0                   1  \n",
       " 1                   1  ,\n",
       " array([117.8243205 , 118.01447253]))"
      ]
     },
     "execution_count": 2,
     "metadata": {},
     "output_type": "execute_result"
    }
   ],
   "source": [
    "from sklearn.metrics import mean_squared_error, mean_absolute_error\n",
    "import numpy as np\n",
    "\n",
    "#determine accuracy\n",
    "mse = mean_squared_error(y_test, predictions)\n",
    "mses = np.sqrt(mse)\n",
    "mae = mean_absolute_error(y_test, predictions)\n",
    "\n",
    "#testing patterns\n",
    "correlation_matrix = df.corr()\n",
    "correlation_matrix['Monthly Premium Auto']\n",
    "test_data = {\n",
    "    'Coverage Index': [1, 1],\n",
    "    'Education Index': [2, 2], \n",
    "    'Employment Status Index': [1, 1], \n",
    "    'Location Index': [1, 1],\n",
    "    'Gender': ['M', 'F'], \n",
    "    'Marital Status Index': [0, 0],\n",
    "    'Vehicle Class Index': [1, 1],\n",
    "    'Vehicle Size Index': [1, 1]\n",
    "}\n",
    "##prepare test data\n",
    "test = pd.DataFrame(test_data)\n",
    "test['Gender'] = test['Gender'].map(gender_map)\n",
    "missing_cols = set(X.columns) - set(test.columns)\n",
    "for col in missing_cols:\n",
    "    test[col] = 0\n",
    "test = test[X.columns]\n",
    "\n",
    "test, model.predict(test)\n"
   ]
  },
  {
   "cell_type": "code",
   "execution_count": null,
   "id": "ee69a089-3286-46d8-8a14-cb6e4b758205",
   "metadata": {},
   "outputs": [],
   "source": []
  }
 ],
 "metadata": {
  "kernelspec": {
   "display_name": "Python 3 (ipykernel)",
   "language": "python",
   "name": "python3"
  },
  "language_info": {
   "codemirror_mode": {
    "name": "ipython",
    "version": 3
   },
   "file_extension": ".py",
   "mimetype": "text/x-python",
   "name": "python",
   "nbconvert_exporter": "python",
   "pygments_lexer": "ipython3",
   "version": "3.12.4"
  }
 },
 "nbformat": 4,
 "nbformat_minor": 5
}
